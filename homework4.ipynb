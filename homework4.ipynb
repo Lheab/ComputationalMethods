{
 "cells": [
  {
   "cell_type": "code",
   "execution_count": 1,
   "metadata": {},
   "outputs": [
    {
     "ename": "ModuleNotFoundError",
     "evalue": "No module named 'scipy.intergrate'",
     "output_type": "error",
     "traceback": [
      "\u001b[0;31m---------------------------------------------------------------------------\u001b[0m",
      "\u001b[0;31mModuleNotFoundError\u001b[0m                       Traceback (most recent call last)",
      "\u001b[0;32m<ipython-input-1-261abd991881>\u001b[0m in \u001b[0;36m<module>\u001b[0;34m\u001b[0m\n\u001b[1;32m      1\u001b[0m \u001b[0;32mimport\u001b[0m \u001b[0mnumpy\u001b[0m \u001b[0;32mas\u001b[0m \u001b[0mnp\u001b[0m\u001b[0;34m\u001b[0m\u001b[0;34m\u001b[0m\u001b[0m\n\u001b[0;32m----> 2\u001b[0;31m \u001b[0;32mfrom\u001b[0m \u001b[0mscipy\u001b[0m\u001b[0;34m.\u001b[0m\u001b[0mintergrate\u001b[0m \u001b[0;32mimport\u001b[0m \u001b[0mode\u001b[0m\u001b[0;34m\u001b[0m\u001b[0;34m\u001b[0m\u001b[0m\n\u001b[0m\u001b[1;32m      3\u001b[0m \u001b[0;32mfrom\u001b[0m \u001b[0mmath\u001b[0m \u001b[0;32mimport\u001b[0m \u001b[0msin\u001b[0m\u001b[0;34m\u001b[0m\u001b[0;34m\u001b[0m\u001b[0m\n",
      "\u001b[0;31mModuleNotFoundError\u001b[0m: No module named 'scipy.intergrate'"
     ]
    }
   ],
   "source": [
    "import numpy as np\n",
    "from scipy.intergrate import ode\n",
    "from math import sin"
   ]
  },
  {
   "cell_type": "code",
   "execution_count": 2,
   "metadata": {},
   "outputs": [
    {
     "name": "stdout",
     "output_type": "stream",
     "text": [
      "3.27734375\n",
      "3.1015625\n",
      "2.34765625\n",
      "2.140625\n",
      "2.85546875\n",
      "4.1171875\n",
      "4.80078125\n",
      "3.03125\n"
     ]
    }
   ],
   "source": [
    "def f(x):\n",
    "    dy_dx = -2*x**3 + 12*x**2-20*x +8.5\n",
    "    return dy_dx\n",
    "\n",
    "h = 0.5\n",
    "x= 0.\n",
    "y=1.\n",
    "\n",
    "for i in range(8):\n",
    "    k1 = f(x)\n",
    "    k2 = f(x+3/4*h)\n",
    "    y = y + (1/3*k1+2/3*k2)*h\n",
    "    x = x + h \n",
    "    print(y)\n",
    "\n",
    "\n"
   ]
  },
  {
   "cell_type": "code",
   "execution_count": 9,
   "metadata": {},
   "outputs": [
    {
     "name": "stdout",
     "output_type": "stream",
     "text": [
      "5.25\n",
      "5.875\n",
      "5.125\n",
      "4.5\n"
     ]
    }
   ],
   "source": [
    "def derivative(x):\n",
    "    dy_dx = -2*x**3 + 12*x**2 - 20*x + 8.5\n",
    "    return dy_dx\n",
    "\n",
    "def integrate(derivative, yi, x, h):\n",
    "    yi_plus_1 = yi+ derivative(x)*h\n",
    "    return yi_plus_1\n",
    "\n",
    "y = 1.\n",
    "x = 0.\n",
    "h = 0.5\n",
    "for i in range(4):\n",
    "    y = y+derivative(x)*h\n",
    "    x = x+h\n",
    "    print(y)\n"
   ]
  },
  {
   "cell_type": "code",
   "execution_count": null,
   "metadata": {},
   "outputs": [],
   "source": [
    "def derivative(x):\n",
    "    dy_dx = -2*x**3 + 12*x**2 - 20*x + 8.5\n",
    "    return dy_dx\n",
    "\n",
    "def integrate(derivative, yi, x, h):\n",
    "    yi_plus_1 = yi+ derivative(x)*h\n",
    "    return yi_plus_1\n",
    "\n",
    "y = 1.\n",
    "x = 0.\n",
    "h = 0.25\n",
    "for i in range(4):\n",
    "    y = y+derivative(x)*h\n",
    "    x = x+h\n",
    "    print(y)"
   ]
  }
 ],
 "metadata": {
  "kernelspec": {
   "display_name": "Python 3",
   "language": "python",
   "name": "python3"
  },
  "language_info": {
   "codemirror_mode": {
    "name": "ipython",
    "version": 3
   },
   "file_extension": ".py",
   "mimetype": "text/x-python",
   "name": "python",
   "nbconvert_exporter": "python",
   "pygments_lexer": "ipython3",
   "version": "3.7.4"
  }
 },
 "nbformat": 4,
 "nbformat_minor": 4
}
