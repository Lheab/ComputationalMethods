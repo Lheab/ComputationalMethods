{
 "cells": [
  {
   "cell_type": "code",
   "execution_count": 40,
   "metadata": {},
   "outputs": [
    {
     "name": "stdout",
     "output_type": "stream",
     "text": [
      "value at new root 132.81902183854203 -7.100906218031476 100.0\n",
      "value at new root 105.865815707915 -5.087759555093076 39.56843166700262\n",
      "value at new root 113.59718901466508 -5.70983891932243 10.894867141071202\n",
      "value at new root 111.09722085323202 -5.5130579185767505 3.569362115398935\n",
      "value at new root 111.8769599406935 -5.574867989625685 1.1087270795282875\n",
      "value at new root 111.6309465417437 -5.5554093953900425 0.3502639112751842\n",
      "value at new root 111.70828639906577 -5.5615308952540925 0.11006861203043442\n",
      "value at new root 111.6839452542194 -5.559604698776723 0.03464628479419408\n",
      "value at new root 111.69160339897914 -5.56021075514445 0.010899881217021783\n",
      "value at new root 111.68919374358478 -5.560020062039677 0.0034297197248357378\n",
      "value at new root 111.68995192119056 -5.560080062414072 0.0010791278852391125\n",
      "value at new root 111.68971336439228 -5.560061183636269 0.0003395426269557614\n",
      "value at new root 111.68978842483509 -5.560067123732661 0.00010683497625954388\n",
      "value at new root 111.6897648074982 -5.560065254715869 3.3615015406782704e-05\n",
      "value at new root 111.68977223855492 -5.560065842791093 1.0576767266798665e-05\n",
      "value at new root 111.68976990041617 -5.56006565775665 3.327918306517443e-06\n",
      "value at new root 111.68977063609785 -5.56006571597666 1.0471101084097208e-06\n",
      "value at new root 111.68977040461996 -5.560065697658078 3.2946700997444645e-07\n",
      "value at new root 111.6897704774531 -5.560065703421911 1.0366483552376413e-07\n",
      "value at new root 111.68977045453664 -5.560065701608355 3.261751974350817e-08\n",
      "value at new root 111.68977046174709 -5.560065702178974 1.0262812313475333e-08\n",
      "value at new root 111.68977045947835 -5.560065701999435 3.2290814518411e-09\n",
      "value at new root 111.68977046019222 -5.56006570205593 1.0160736899381621e-09\n",
      "value at new root 111.68977045996766 -5.5600657020381545 3.1969253001709633e-10\n",
      "value at new root 111.68977046003829 -5.560065702043743 1.005099384832633e-10\n",
      "value at new root 111.689770460016 -5.5600657020419835 3.164497586386008e-11\n",
      "value at new root 111.68977046002306 -5.560065702042541 1.0031824756437221e-11\n",
      "value at new root 111.68977046002087 -5.560065702042366 3.1469259188187817e-12\n",
      "value at new root 111.68977046002155 -5.560065702042419 9.42480351321352e-13\n",
      "value at new root 111.68977046002132 -5.560065702042401 3.1948486485469664e-13\n",
      "value at new root 111.68977046002138 -5.560065702042407 1.118197026991437e-13\n",
      "value at new root 111.68977046002138 -5.560065702042406 1.5974243242734817e-14\n",
      "value at new root 111.68977046002138 -5.560065702042405 1.597424324273482e-14\n",
      "value at new root 111.68977046002138 -5.560065702042405 0.0\n",
      "value at new root 111.68977046002138 -5.560065702042405 0.0\n",
      "value at new root 111.68977046002138 -5.560065702042405 0.0\n",
      "value at new root 111.68977046002138 -5.560065702042405 0.0\n",
      "value at new root 111.68977046002138 -5.560065702042405 0.0\n",
      "value at new root 111.68977046002138 -5.560065702042405 0.0\n",
      "value at new root 111.68977046002138 -5.560065702042405 0.0\n",
      "value at new root 111.68977046002138 -5.560065702042405 0.0\n",
      "value at new root 111.68977046002138 -5.560065702042405 0.0\n",
      "value at new root 111.68977046002138 -5.560065702042405 0.0\n",
      "value at new root 111.68977046002138 -5.560065702042405 0.0\n",
      "value at new root 111.68977046002138 -5.560065702042405 0.0\n",
      "value at new root 111.68977046002138 -5.560065702042405 0.0\n",
      "value at new root 111.68977046002138 -5.560065702042405 0.0\n",
      "value at new root 111.68977046002138 -5.560065702042405 0.0\n",
      "value at new root 111.68977046002138 -5.560065702042405 0.0\n",
      "value at new root 111.68977046002138 -5.560065702042405 0.0\n",
      "value at new root 111.68977046002138 -5.560065702042405 0.0\n",
      "value at new root 111.68977046002138 -5.560065702042405 0.0\n",
      "value at new root 111.68977046002138 -5.560065702042405 0.0\n",
      "value at new root 111.68977046002138 -5.560065702042405 0.0\n",
      "value at new root 111.68977046002138 -5.560065702042405 0.0\n",
      "value at new root 111.68977046002138 -5.560065702042405 0.0\n",
      "value at new root 111.68977046002138 -5.560065702042405 0.0\n",
      "value at new root 111.68977046002138 -5.560065702042405 0.0\n",
      "value at new root 111.68977046002138 -5.560065702042405 0.0\n",
      "value at new root 111.68977046002138 -5.560065702042405 0.0\n",
      "value at new root 111.68977046002138 -5.560065702042405 0.0\n",
      "value at new root 111.68977046002138 -5.560065702042405 0.0\n",
      "value at new root 111.68977046002138 -5.560065702042405 0.0\n",
      "value at new root 111.68977046002138 -5.560065702042405 0.0\n",
      "value at new root 111.68977046002138 -5.560065702042405 0.0\n",
      "value at new root 111.68977046002138 -5.560065702042405 0.0\n",
      "value at new root 111.68977046002138 -5.560065702042405 0.0\n",
      "value at new root 111.68977046002138 -5.560065702042405 0.0\n",
      "value at new root 111.68977046002138 -5.560065702042405 0.0\n",
      "value at new root 111.68977046002138 -5.560065702042405 0.0\n",
      "value at new root 111.68977046002138 -5.560065702042405 0.0\n",
      "value at new root 111.68977046002138 -5.560065702042405 0.0\n",
      "value at new root 111.68977046002138 -5.560065702042405 0.0\n",
      "value at new root 111.68977046002138 -5.560065702042405 0.0\n",
      "value at new root 111.68977046002138 -5.560065702042405 0.0\n",
      "value at new root 111.68977046002138 -5.560065702042405 0.0\n",
      "value at new root 111.68977046002138 -5.560065702042405 0.0\n",
      "value at new root 111.68977046002138 -5.560065702042405 0.0\n",
      "value at new root 111.68977046002138 -5.560065702042405 0.0\n",
      "value at new root 111.68977046002138 -5.560065702042405 0.0\n",
      "value at new root 111.68977046002138 -5.560065702042405 0.0\n",
      "value at new root 111.68977046002138 -5.560065702042405 0.0\n",
      "value at new root 111.68977046002138 -5.560065702042405 0.0\n",
      "value at new root 111.68977046002138 -5.560065702042405 0.0\n",
      "value at new root 111.68977046002138 -5.560065702042405 0.0\n",
      "value at new root 111.68977046002138 -5.560065702042405 0.0\n",
      "value at new root 111.68977046002138 -5.560065702042405 0.0\n",
      "value at new root 111.68977046002138 -5.560065702042405 0.0\n",
      "value at new root 111.68977046002138 -5.560065702042405 0.0\n",
      "value at new root 111.68977046002138 -5.560065702042405 0.0\n",
      "value at new root 111.68977046002138 -5.560065702042405 0.0\n",
      "value at new root 111.68977046002138 -5.560065702042405 0.0\n",
      "value at new root 111.68977046002138 -5.560065702042405 0.0\n",
      "value at new root 111.68977046002138 -5.560065702042405 0.0\n",
      "value at new root 111.68977046002138 -5.560065702042405 0.0\n",
      "value at new root 111.68977046002138 -5.560065702042405 0.0\n",
      "value at new root 111.68977046002138 -5.560065702042405 0.0\n",
      "value at new root 111.68977046002138 -5.560065702042405 0.0\n",
      "value at new root 111.68977046002138 -5.560065702042405 0.0\n",
      "value at new root 111.68977046002138 -5.560065702042405 0.0\n"
     ]
    },
    {
     "data": {
      "text/plain": [
       "-5.560065702042405"
      ]
     },
     "execution_count": 40,
     "metadata": {},
     "output_type": "execute_result"
    }
   ],
   "source": [
    "from math import exp\n",
    "iterations=[]\n",
    "error=[]\n",
    "def f(c):\n",
    "  return 668.06/c * (1-exp(-0.146843*c))-40\n",
    "\n",
    "def bisection(xl, xu, n):\n",
    "   if f(xl)*f(xu)<0.5:\n",
    "     print(\"bisection method fails\")\n",
    "     return None\n",
    "   old_root = 0\n",
    "   for i in range(n):\n",
    "     root = (f(xu)*(xl-xu))/(f(xl)-f(xu))\n",
    "     e = abs((root-old_root)/root*100)\n",
    "     error.append(e)\n",
    "     iterations.append(i)\n",
    "     old_root = root\n",
    "     if f(root)== 0.:\n",
    "        return root\n",
    "     elif f(root) * f(xl) > 0:\n",
    "        xl = root\n",
    "     elif f(root) * f(xl) < 0:\n",
    "        xu = root\n",
    "     print('value at new root', f(root), root, e)\n",
    "   return root\n",
    "\n",
    "\n",
    "bisection(-1, 1 , 100)"
   ]
  },
  {
   "cell_type": "code",
   "execution_count": 24,
   "metadata": {},
   "outputs": [
    {
     "data": {
      "image/png": "[encoded data removed]",
      "text/plain": [
       "<Figure size 432x288 with 1 Axes>"
      ]
     },
     "metadata": {
      "needs_background": "light"
     },
     "output_type": "display_data"
    }
   ],
   "source": [
    "\n"
   ]
  },
  {
   "cell_type": "code",
   "execution_count": 38,
   "metadata": {},
   "outputs": [
    {
     "name": "stderr",
     "output_type": "stream",
     "text": [
      "/opt/anaconda3/lib/python3.7/site-packages/ipykernel_launcher.py:10: RuntimeWarning: divide by zero encountered in true_divide\n",
      "  # Remove the CWD from sys.path while we load stuff.\n",
      "/opt/anaconda3/lib/python3.7/site-packages/ipykernel_launcher.py:11: RuntimeWarning: invalid value encountered in true_divide\n",
      "  # This is added back by InteractiveShellApp.init_path()\n"
     ]
    },
    {
     "ename": "ValueError",
     "evalue": "The truth value of an array with more than one element is ambiguous. Use a.any() or a.all()",
     "output_type": "error",
     "traceback": [
      "\u001b[0;31m---------------------------------------------------------------------------\u001b[0m",
      "\u001b[0;31mValueError\u001b[0m                                Traceback (most recent call last)",
      "\u001b[0;32m<ipython-input-38-9eb194cf0a88>\u001b[0m in \u001b[0;36m<module>\u001b[0;34m\u001b[0m\n\u001b[1;32m     22\u001b[0m    \u001b[0;32mreturn\u001b[0m \u001b[0mroot\u001b[0m\u001b[0;34m\u001b[0m\u001b[0;34m\u001b[0m\u001b[0m\n\u001b[1;32m     23\u001b[0m \u001b[0;34m\u001b[0m\u001b[0m\n\u001b[0;32m---> 24\u001b[0;31m \u001b[0mbisection\u001b[0m\u001b[0;34m(\u001b[0m\u001b[0;36m0\u001b[0m\u001b[0;34m,\u001b[0m \u001b[0;36m1\u001b[0m \u001b[0;34m,\u001b[0m \u001b[0;36m5\u001b[0m\u001b[0;34m)\u001b[0m\u001b[0;34m\u001b[0m\u001b[0;34m\u001b[0m\u001b[0m\n\u001b[0m",
      "\u001b[0;32m<ipython-input-38-9eb194cf0a88>\u001b[0m in \u001b[0;36mbisection\u001b[0;34m(xl, xu, n)\u001b[0m\n\u001b[1;32m     13\u001b[0m      \u001b[0miterations\u001b[0m\u001b[0;34m.\u001b[0m\u001b[0mappend\u001b[0m\u001b[0;34m(\u001b[0m\u001b[0mi\u001b[0m\u001b[0;34m)\u001b[0m\u001b[0;34m\u001b[0m\u001b[0;34m\u001b[0m\u001b[0m\n\u001b[1;32m     14\u001b[0m      \u001b[0mold_root\u001b[0m \u001b[0;34m=\u001b[0m \u001b[0mroot\u001b[0m\u001b[0;34m\u001b[0m\u001b[0;34m\u001b[0m\u001b[0m\n\u001b[0;32m---> 15\u001b[0;31m      \u001b[0;32mif\u001b[0m \u001b[0mf\u001b[0m\u001b[0;34m(\u001b[0m\u001b[0mroot\u001b[0m\u001b[0;34m)\u001b[0m\u001b[0;34m==\u001b[0m \u001b[0;36m0.\u001b[0m\u001b[0;34m:\u001b[0m\u001b[0;34m\u001b[0m\u001b[0;34m\u001b[0m\u001b[0m\n\u001b[0m\u001b[1;32m     16\u001b[0m         \u001b[0;32mreturn\u001b[0m \u001b[0mroot\u001b[0m\u001b[0;34m\u001b[0m\u001b[0;34m\u001b[0m\u001b[0m\n\u001b[1;32m     17\u001b[0m      \u001b[0;32melif\u001b[0m \u001b[0mf\u001b[0m\u001b[0;34m(\u001b[0m\u001b[0mroot\u001b[0m\u001b[0;34m)\u001b[0m \u001b[0;34m*\u001b[0m \u001b[0mf\u001b[0m\u001b[0;34m(\u001b[0m\u001b[0mxl\u001b[0m\u001b[0;34m)\u001b[0m \u001b[0;34m>\u001b[0m \u001b[0;36m0\u001b[0m\u001b[0;34m:\u001b[0m\u001b[0;34m\u001b[0m\u001b[0;34m\u001b[0m\u001b[0m\n",
      "\u001b[0;31mValueError\u001b[0m: The truth value of an array with more than one element is ambiguous. Use a.any() or a.all()"
     ]
    }
   ],
   "source": []
  },
  {
   "cell_type": "code",
   "execution_count": null,
   "metadata": {},
   "outputs": [],
   "source": []
  }
 ],
 "metadata": {
  "kernelspec": {
   "display_name": "Python 3",
   "language": "python",
   "name": "python3"
  },
  "language_info": {
   "codemirror_mode": {
    "name": "ipython",
    "version": 3
   },
   "file_extension": ".py",
   "mimetype": "text/x-python",
   "name": "python",
   "nbconvert_exporter": "python",
   "pygments_lexer": "ipython3",
   "version": "3.7.4"
  }
 },
 "nbformat": 4,
 "nbformat_minor": 4
}
