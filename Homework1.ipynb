{
 "cells": [
  {
   "cell_type": "code",
   "execution_count": 11,
   "metadata": {},
   "outputs": [
    {
     "name": "stdout",
     "output_type": "stream",
     "text": [
      "403.42670366343077\n"
     ]
    }
   ],
   "source": [
    "import math\n",
    "\n",
    "x = 6\n",
    "e_to_n = 0\n",
    "for i in range(20):\n",
    "    e_to_n += x**i/math.factorial(i)\n",
    "print(e_to_n)"
   ]
  },
  {
   "cell_type": "code",
   "execution_count": 21,
   "metadata": {},
   "outputs": [
    {
     "name": "stdout",
     "output_type": "stream",
     "text": [
      "0.9848077530122153\n"
     ]
    }
   ],
   "source": [
    "import math\n",
    "\n",
    "#taylor function code cosx\n",
    "\n",
    "def function_cosine(x,n):\n",
    "    cos_approx= 0\n",
    "    for i in range(n):\n",
    "        coefficient =(-1)**i\n",
    "        numerator = x**(2*i)\n",
    "        denominator = math.factorial(2*i)\n",
    "        cos_approx += (coefficient) * ((numerator)/(denominator))\n",
    "    return cos_approx \n",
    "\n",
    "#convert degree into radians\n",
    "\n",
    "angle_rad = (math.radians(10)) #10 is the degrees of the cosine to be calculated\n",
    "outcome = function_cosine(angle_rad,5) #5 terms of the taylor function\n",
    "print(outcome)"
   ]
  },
  {
   "cell_type": "code",
   "execution_count": 23,
   "metadata": {},
   "outputs": [
    {
     "name": "stdout",
     "output_type": "stream",
     "text": [
      "0.17364817766693044\n"
     ]
    }
   ],
   "source": [
    "import math\n",
    "\n",
    "\n",
    "#taylor function code sinx\n",
    "\n",
    "def function_sin(x,n):\n",
    "    sin_approx= 0\n",
    "    for i in range(n):\n",
    "        coefficient =x**(2*i+1)\n",
    "        numerator = (-1)**i\n",
    "        denominator = math.factorial(2*i+1)\n",
    "        sin_approx += (coefficient) * ((numerator)/(denominator))\n",
    "    return sin_approx \n",
    "\n",
    "#convert degree into radians\n",
    "\n",
    "angle_rad = (math.radians(10)) #10 is the degrees to be calculated\n",
    "outcome = function_sin(angle_rad,5) #5 terms of the taylor function\n",
    "print(outcome)"
   ]
  },
  {
   "cell_type": "code",
   "execution_count": 32,
   "metadata": {},
   "outputs": [
    {
     "name": "stdout",
     "output_type": "stream",
     "text": [
      "the taylor series approximation is 16.375\n",
      "the actual answer is 20.085536923187668\n"
     ]
    }
   ],
   "source": [
    "# example of different than expected\n",
    "\n",
    "import math\n",
    "\n",
    "x = 3\n",
    "e_3 = x**0/math.factorial(0) + x**1/math.factorial(1) + x**2/math.factorial(2) + x**3/math.factorial(3) + x**4/math.factorial(4)\n",
    "print(\"the taylor series approximation is\", e_3) \n",
    "\n",
    "print(\"the actual answer is\", math.exp(3))"
   ]
  },
  {
   "cell_type": "code",
   "execution_count": null,
   "metadata": {},
   "outputs": [],
   "source": []
  }
 ],
 "metadata": {
  "kernelspec": {
   "display_name": "Python 3",
   "language": "python",
   "name": "python3"
  },
  "language_info": {
   "codemirror_mode": {
    "name": "ipython",
    "version": 3
   },
   "file_extension": ".py",
   "mimetype": "text/x-python",
   "name": "python",
   "nbconvert_exporter": "python",
   "pygments_lexer": "ipython3",
   "version": "3.7.4"
  }
 },
 "nbformat": 4,
 "nbformat_minor": 4
}
